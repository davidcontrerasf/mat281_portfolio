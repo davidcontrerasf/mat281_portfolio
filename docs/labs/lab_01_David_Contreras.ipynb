{
  "cells": [
    {
      "cell_type": "markdown",
      "id": "e2696553",
      "metadata": {
        "id": "e2696553"
      },
      "source": [
        "<a href=\"https://colab.research.google.com/github/fralfaro/MAT281_2023/blob/main/docs/labs/lab_01.ipynb\" target=\"_parent\"><img src=\"https://colab.research.google.com/assets/colab-badge.svg\" alt=\"Open In Colab\"/></a>\n",
        "\n",
        "\n",
        "# MAT281 - Laboratorio N°01\n"
      ]
    },
    {
      "cell_type": "markdown",
      "id": "a869ace0",
      "metadata": {
        "id": "a869ace0"
      },
      "source": [
        "## Problema 01\n",
        "\n",
        "En los siglos XVII y XVIII, James Gregory y Gottfried Leibniz descubrieron una serie infinita que sirve para calcular $\\pi$:\n",
        "\n",
        "$$\\displaystyle \\pi = 4 \\sum_{k=1}^{\\infty}\\dfrac{(-1)^{k+1}}{2k-1} = 4(1-\\dfrac{1}{3}+\\dfrac{1}{5}-\\dfrac{1}{7} + ...) $$\n",
        "\n",
        "Desarolle un programa para estimar el valor de $\\pi$ ocupando el método de Leibniz, donde la entrada del programa debe ser un número entero $n$ que indique cuántos términos de la suma se utilizará.\n",
        "\n",
        "\n",
        "* **Ejemplo**:\n",
        "    * *calcular_pi(3)* = 3.466666666666667\n",
        "    * *calcular_pi(1000)* = 3.140592653839794"
      ]
    },
    {
      "cell_type": "code",
      "execution_count": null,
      "id": "dd54e855",
      "metadata": {
        "id": "dd54e855"
      },
      "outputs": [],
      "source": [
        "# Respuesta\n",
        "# La función recibe un número natural\n",
        "\n",
        "def calcular_pi(k):\n",
        "\n",
        "    resultado = 0   # Para almacenar el valor de la suma\n",
        "\n",
        "    for k in range(1,k+1):\n",
        "        suma = 4*((-1)**(k+1))/(2*k-1)\n",
        "        resultado+=suma # Suma los valores obtenidos para cada k\n",
        "\n",
        "    return(resultado)"
      ]
    },
    {
      "cell_type": "code",
      "source": [
        "print(calcular_pi(3))\n",
        "print(calcular_pi(1000))"
      ],
      "metadata": {
        "id": "zBRZRL3gyEay",
        "outputId": "45fb90dc-0525-4f27-c397-5761ce56aed1",
        "colab": {
          "base_uri": "https://localhost:8080/"
        }
      },
      "id": "zBRZRL3gyEay",
      "execution_count": 5,
      "outputs": [
        {
          "output_type": "stream",
          "name": "stdout",
          "text": [
            "3.466666666666667\n",
            "3.140592653839794\n"
          ]
        }
      ]
    },
    {
      "cell_type": "markdown",
      "id": "c26be634",
      "metadata": {
        "id": "c26be634"
      },
      "source": [
        "## Problema 02\n",
        "\n",
        "Euler realizó varios aportes en relación a $e$, pero no fue hasta 1748 cuando publicó su **Introductio in analysin infinitorum** que dio un tratamiento definitivo a las ideas sobre $e$. Allí mostró que:\n",
        "\n",
        "\n",
        "En los siglos XVII y XVIII, James Gregory y Gottfried Leibniz descubrieron una serie infinita que sirve para calcular π:\n",
        "\n",
        "$$\\displaystyle e = \\sum_{k=0}^{\\infty}\\dfrac{1}{k!} = 1+\\dfrac{1}{2!}+\\dfrac{1}{3!}+\\dfrac{1}{4!} + ... $$\n",
        "\n",
        "Desarolle un programa para estimar el valor de $e$ ocupando el método de Euler, donde la entrada del programa debe ser un número entero $n$ que indique cuántos términos de la suma se utilizará.\n",
        "\n",
        "Para esto:\n",
        "\n",
        "* a) Defina la función `factorial`, donde la entrada sea un número natural  $n$ y la salida sea el factorial de dicho número.\n",
        "    * **Ejemplo**: *factorial(3)* =3, *factorial(5)* = 120\n",
        "    \n",
        "    \n",
        "* b) Ocupe la función `factorial` dentro de la función `calcular_e`.     \n",
        "    * **Ejemplo**: *calcular_e(3)* = 2.6666666666666665, *calcular_e(1000)* = 2.7182818284590455"
      ]
    },
    {
      "cell_type": "code",
      "execution_count": null,
      "id": "706d4c0a",
      "metadata": {
        "id": "706d4c0a"
      },
      "outputs": [],
      "source": [
        "# Respuesta\n",
        "# Función recursiva para obtener el factorial de un número\n",
        "def factorial(k):\n",
        "    if k == 0:\n",
        "        return 1\n",
        "    else:\n",
        "        return k*factorial(k-1)\n",
        "\n",
        "# Función que estima el valor e\n",
        "def calcular_e(k):\n",
        "\n",
        "    resultado = 0\n",
        "\n",
        "    for k in range(0,k+1,1):\n",
        "        suma = 1/factorial(k)\n",
        "        resultado+=suma\n",
        "\n",
        "    return(resultado)\n",
        "\n",
        "calcular_e(1000)"
      ]
    },
    {
      "cell_type": "code",
      "source": [
        "print(calcular_e(3))\n",
        "print(calcular_e(1000))"
      ],
      "metadata": {
        "id": "REPgM0eSzG6B",
        "outputId": "ba3533d6-8366-4c6f-bec5-119c3bb738c5",
        "colab": {
          "base_uri": "https://localhost:8080/"
        }
      },
      "id": "REPgM0eSzG6B",
      "execution_count": 11,
      "outputs": [
        {
          "output_type": "stream",
          "name": "stdout",
          "text": [
            "2.6666666666666665\n",
            "2.7182818284590455\n"
          ]
        }
      ]
    },
    {
      "cell_type": "markdown",
      "id": "9707be93",
      "metadata": {
        "id": "9707be93"
      },
      "source": [
        "## Problema 03\n",
        "\n",
        "Sea $\\sigma(n)$ definido como la suma de los divisores propios de $n$ (números menores que n que se dividen en $n$).\n",
        "\n",
        "Los [números amigos](https://en.wikipedia.org/wiki/Amicable_numbers) son  enteros positivos $n_1$ y $n_2$ tales que la suma de los divisores propios de uno es igual al otro número y viceversa, es decir, $\\sigma(n_1)=\\sigma(n_2)$ y $\\sigma(n_2)=\\sigma(n_1)$.\n",
        "\n",
        "\n",
        "Por ejemplo, los números 220 y 284 son números amigos.\n",
        "* los divisores propios de 220 son 1, 2, 4, 5, 10, 11, 20, 22, 44, 55 y 110; por lo tanto $\\sigma(220) = 284$.\n",
        "* los divisores propios de 284 son 1, 2, 4, 71 y 142; entonces $\\sigma(284) = 220$.\n",
        "\n",
        "\n",
        "Implemente una función llamada `amigos` cuyo input sean dos números naturales $n_1$ y $n_2$, cuyo output sea verifique si los números son amigos o no.\n",
        "\n",
        "Para esto:\n",
        "\n",
        "* a) Defina la función `divisores_propios`, donde la entrada sea un número natural $n$ y la salida sea una lista con los divisores propios de dicho número.\n",
        "    * **Ejemplo**: *divisores_propios(220)* = [1, 2, 4, 5, 10, 11, 20, 22, 44, 55 y 110], *divisores_propios(284)* = [1, 2, 4, 71 y 142]\n",
        "    \n",
        "    \n",
        "* b) Ocupe la función `divisores_propios` dentro de la función `amigos`.\n",
        "\n",
        "    * **Ejemplo**: *amigos(220,284)* = True, *amigos(6,5)* = False"
      ]
    },
    {
      "cell_type": "code",
      "execution_count": null,
      "id": "e695ea21",
      "metadata": {
        "id": "e695ea21"
      },
      "outputs": [],
      "source": [
        "# Respuesta\n",
        "\n",
        "def divisores_propios(n):\n",
        "    divisores = []\n",
        "\n",
        "    for divisor in range(1,n):\n",
        "        if(n%divisor)==0:\n",
        "            divisores.append(divisor)\n",
        "    return divisores\n",
        "\n",
        "def amigos(n1,n2):\n",
        "\n",
        "    d1 = divisores_propios(n1)\n",
        "    d2 = divisores_propios(n2)\n",
        "\n",
        "    suma1 = sum(d1)\n",
        "    suma2 = sum(d2)\n",
        "\n",
        "    if (suma1 == n2) & (suma2 == n1):\n",
        "        return True\n",
        "    else:\n",
        "        return False\n",
        "\n",
        "divisores_propios(284)\n",
        "amigos(6,5)"
      ]
    },
    {
      "cell_type": "code",
      "source": [
        "print(divisores_propios(220))\n",
        "print(divisores_propios(284))\n",
        "print(amigos(220,284))\n",
        "print(amigos(6,5))"
      ],
      "metadata": {
        "id": "EtMeHlpQ0TSw",
        "outputId": "09234b38-fe44-479f-d771-3821f14d60a1",
        "colab": {
          "base_uri": "https://localhost:8080/"
        }
      },
      "id": "EtMeHlpQ0TSw",
      "execution_count": 15,
      "outputs": [
        {
          "output_type": "stream",
          "name": "stdout",
          "text": [
            "[1, 2, 4, 5, 10, 11, 20, 22, 44, 55, 110]\n",
            "[1, 2, 4, 71, 142]\n",
            "True\n",
            "False\n"
          ]
        }
      ]
    },
    {
      "cell_type": "markdown",
      "id": "cf93a039",
      "metadata": {
        "id": "cf93a039"
      },
      "source": [
        "## Problema 04\n",
        "\n",
        "La [conjetura de Collatz](https://en.wikipedia.org/wiki/Collatz_conjecture), conocida también como conjetura $3n+1$ o conjetura de Ulam (entre otros nombres), fue enunciada por el matemático Lothar Collatz en 1937, y a la fecha no se ha resuelto.\n",
        "\n",
        "Sea la siguiente operación, aplicable a cualquier número entero positivo:\n",
        "* Si el número es par, se divide entre 2.\n",
        "* Si el número es impar, se multiplica por 3 y se suma 1.\n",
        "\n",
        "La conjetura dice que siempre alcanzaremos el 1 (y por tanto el ciclo 4, 2, 1) para cualquier número con el que comencemos.\n",
        "\n",
        "Implemente una función llamada `collatz` cuyo input sea un número natural positivo $N$ y como output devulva la secuencia de números hasta llegar a 1.\n",
        "\n",
        "* **Ejemplo**: *collatz(9)* = [9, 28, 14, 7, 22, 11, 34, 17, 52, 26, 13, 40, 20, 10, 5, 16, 8, 4, 2, 1]"
      ]
    },
    {
      "cell_type": "code",
      "execution_count": 16,
      "id": "10501a00",
      "metadata": {
        "id": "10501a00"
      },
      "outputs": [],
      "source": [
        "# Respuesta\n",
        "\n",
        "def collatz(n):\n",
        "\n",
        "    collatz_lista = [n] # Agrega el valor inicial a la lista\n",
        "\n",
        "    while n != 1:\n",
        "      if n%2 == 0: # Condición número par\n",
        "        n = int(n/2)\n",
        "        collatz_lista.append(n)\n",
        "      else: # Condición número impar\n",
        "        n = 3*n + 1\n",
        "        collatz_lista.append(n)\n",
        "\n",
        "    return collatz_lista"
      ]
    },
    {
      "cell_type": "code",
      "source": [
        "print(collatz(9))"
      ],
      "metadata": {
        "id": "InEj2lZL18KX",
        "outputId": "c4ad2712-36fb-427c-8ad7-ca53bf1a38bd",
        "colab": {
          "base_uri": "https://localhost:8080/"
        }
      },
      "id": "InEj2lZL18KX",
      "execution_count": 21,
      "outputs": [
        {
          "output_type": "stream",
          "name": "stdout",
          "text": [
            "[9, 28, 14, 7, 22, 11, 34, 17, 52, 26, 13, 40, 20, 10, 5, 16, 8, 4, 2, 1]\n"
          ]
        }
      ]
    },
    {
      "cell_type": "markdown",
      "id": "d15af4eb",
      "metadata": {
        "id": "d15af4eb"
      },
      "source": [
        "## Problema 05\n",
        "La [conjetura de Goldbach](https://en.wikipedia.org/wiki/Goldbach%27s_conjecture) es uno de los problemas abiertos más antiguos en matemáticas. Concretamente, G.H. Hardy, en 1921, en su famoso discurso pronunciado en la Sociedad Matemática de Copenhague, comentó que probablemente la conjetura de Goldbach no es solo uno de los problemas no resueltos más difíciles de la teoría de números, sino de todas las matemáticas. Su enunciado es el siguiente:\n",
        "\n",
        "> Todo número par mayor que 2 puede escribirse como suma de dos números primos - Christian Goldbach (1742)\n",
        "\n",
        "Implemente una función llamada `goldbach` cuyo input sea un número natural positivo $n$ y como output devuelva la suma de dos primos ($n_1$ y $n_2$) tal que: $n_1+n_2=n$.\n",
        "\n",
        "Para esto:\n",
        "\n",
        "* a) Defina la función `es_primo`, donde la entrada sea un número natural $n$ y la salida sea **True** si el número es primo y **False** en otro caso.\n",
        "    * **Ejemplo**: *es_primo(3)* = True, *es_primo(4)* = False\n",
        "    \n",
        "    \n",
        "* b)  Defina la función `lista_de_primos`, donde la entrada sea un número natural par $n$ mayor que dos y la salida sea una lista con todos los número primos entre 2 y $n$.\n",
        "    * **Ejemplo**: *lista_de_primos(4)* = [2,3], *lista_de_primos(6)* = [2,3,5], *lista_de_primos(8)* = [2,3,5,7]\n",
        "\n",
        "\n",
        "* c) Ocupe la función `lista_de_primos` dentro de la función `goldbash`.\n",
        " * **Ejemplo**: goldbash(4) = (2,2), goldbash(6) = (3,3) , goldbash(8) = (3,5)"
      ]
    },
    {
      "cell_type": "code",
      "execution_count": null,
      "id": "cccb4ae0",
      "metadata": {
        "id": "cccb4ae0"
      },
      "outputs": [],
      "source": [
        "# Respuesta\n",
        "\n",
        "# Función que verifica si el número ingresado es primo o no lo es\n",
        "def es_primo(n):\n",
        "  if n==3 or n==2:\n",
        "    return True\n",
        "\n",
        "  for i in range(2,(n//2)+1): # Verificamos el caso del resto de los números\n",
        "    if n%i == 0:\n",
        "      return False\n",
        "\n",
        "    elif i == n//2:\n",
        "      return True\n",
        "\n",
        "# Función que retorna una lista con todos los números primos entre 2 y el numero ingresado\n",
        "def lista_de_primos(n):\n",
        "  lista_primos=[]\n",
        "\n",
        "  for k in range(2,n,1): # Para poder obtener la lista de numeros primos\n",
        "    if es_primo(k)==True:\n",
        "      lista_primos.append(k)\n",
        "\n",
        "  return lista_primos\n",
        "\n",
        "# Función que devuelve la suma de dos números primos n1+n2 = n, donde n es el número ingresado\n",
        "def goldbash(n):\n",
        "  lista_goldbash=lista_de_primos(n)\n",
        "  combinaciones=[]\n",
        "\n",
        "  for i in lista_goldbash:\n",
        "    for j in lista_goldbash:\n",
        "      if i+j==n:\n",
        "        combinaciones.append((i,j))\n",
        "\n",
        "  return(combinaciones[0])"
      ]
    },
    {
      "cell_type": "code",
      "source": [
        "print(es_primo(3))\n",
        "print(es_primo(4))\n",
        "\n",
        "print(lista_de_primos(4))\n",
        "print(lista_de_primos(6))\n",
        "print(lista_de_primos(8))\n",
        "\n",
        "print(goldbash(4))\n",
        "print(goldbash(6))\n",
        "print(goldbash(8))"
      ],
      "metadata": {
        "id": "BwUrdBUQ-AWM",
        "outputId": "bce9c8e1-815b-4612-c720-ee54ab76b84f",
        "colab": {
          "base_uri": "https://localhost:8080/"
        }
      },
      "id": "BwUrdBUQ-AWM",
      "execution_count": 31,
      "outputs": [
        {
          "output_type": "stream",
          "name": "stdout",
          "text": [
            "True\n",
            "False\n",
            "[2, 3]\n",
            "[2, 3, 5]\n",
            "[2, 3, 5, 7]\n",
            "(2, 2)\n",
            "(3, 3)\n",
            "(3, 5)\n"
          ]
        }
      ]
    }
  ],
  "metadata": {
    "kernelspec": {
      "display_name": "Python 3 (ipykernel)",
      "language": "python",
      "name": "python3"
    },
    "language_info": {
      "codemirror_mode": {
        "name": "ipython",
        "version": 3
      },
      "file_extension": ".py",
      "mimetype": "text/x-python",
      "name": "python",
      "nbconvert_exporter": "python",
      "pygments_lexer": "ipython3",
      "version": "3.8.10"
    },
    "colab": {
      "provenance": []
    }
  },
  "nbformat": 4,
  "nbformat_minor": 5
}